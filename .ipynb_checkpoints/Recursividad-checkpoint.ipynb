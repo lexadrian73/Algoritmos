{
 "cells": [
  {
   "cell_type": "code",
   "execution_count": 1,
   "id": "f87ef953-4389-41fc-9c85-df361e8053e1",
   "metadata": {},
   "outputs": [
    {
     "name": "stdout",
     "output_type": "stream",
     "text": [
      "15\n"
     ]
    }
   ],
   "source": [
    "def _findSum(arr, N):\n",
    "     if len(arr)== 1:\n",
    "        return arr[0]\n",
    "     else:\n",
    "        return arr[0]+_findSum(arr[1:], N)\n",
    " \n",
    "arr = [1, 2, 3, 4, 5]\n",
    "  \n",
    "# calculating length of array\n",
    "N = len(arr)\n",
    "  \n",
    "ans =_findSum(arr,N)\n",
    "print (ans)"
   ]
  },
  {
   "cell_type": "code",
   "execution_count": null,
   "id": "67c65b50-602b-483f-aef3-17b9a06aad21",
   "metadata": {},
   "outputs": [],
   "source": []
  }
 ],
 "metadata": {
  "kernelspec": {
   "display_name": "Python 3 (ipykernel)",
   "language": "python",
   "name": "python3"
  },
  "language_info": {
   "codemirror_mode": {
    "name": "ipython",
    "version": 3
   },
   "file_extension": ".py",
   "mimetype": "text/x-python",
   "name": "python",
   "nbconvert_exporter": "python",
   "pygments_lexer": "ipython3",
   "version": "3.9.7"
  }
 },
 "nbformat": 4,
 "nbformat_minor": 5
}
