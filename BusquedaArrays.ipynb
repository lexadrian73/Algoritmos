{
 "cells": [
  {
   "cell_type": "code",
   "execution_count": 9,
   "id": "d590a7f2-c2b5-430e-a757-00540bbdef2b",
   "metadata": {},
   "outputs": [
    {
     "name": "stdout",
     "output_type": "stream",
     "text": [
      "array([  5,   9,  10,  11,  15,  17,  25,  29,  39,  46,  53,  60,  64,\n",
      "        69,  70,  81,  85,  87,  92,  93,  97, 100, 106, 111, 113, 114,\n",
      "       120, 121, 128, 131, 143, 150, 173, 178, 179, 199, 203, 204, 206,\n",
      "       213, 221, 222, 224, 226, 227, 233, 249, 251, 255, 265, 271, 272,\n",
      "       276, 277, 288, 289, 291, 293, 307, 320, 322, 326, 329, 348, 354,\n",
      "       358, 366, 372, 373, 374, 377, 379, 382, 383, 397, 398, 399, 401,\n",
      "       405, 409, 410, 411, 428, 435, 447, 449, 453, 458, 460, 461, 462,\n",
      "       465, 468, 471, 482, 483, 487, 488, 491, 494])\n",
      "None\n",
      "None\n",
      "0.0009965896606445312\n"
     ]
    }
   ],
   "source": [
    "import random\n",
    "import sys\n",
    "import numpy as np\n",
    "import time\n",
    "np.set_printoptions(threshold=sys.maxsize)\n",
    "random_array = random.sample(range(1, 500), 100) #Array con 100 elementos\n",
    "sort_array = np.sort(random_array) #Array Ordenado\n",
    "print(repr(sort_array))\n",
    "\n",
    "def simple_search(lista, item):\n",
    "    for i in range(len(lista)):\n",
    "        if(lista[i] == item):\n",
    "            return lista.index(item)\n",
    "    return None\n",
    "\n",
    "def binary_search(lista, item):\n",
    "    low = 0\n",
    "    high = len(lista) - 1\n",
    "    while low <= high:\n",
    "        mid = (low + high)//2\n",
    "        guess = lista[mid]\n",
    "        if guess == item:\n",
    "            return mid\n",
    "        elif guess > item:\n",
    "            high = mid - 1\n",
    "        else:\n",
    "            low = mid + 1\n",
    "    return None\n",
    "\n",
    "inicio = time.time()\n",
    "#Inicio\n",
    "print(binary_search(sort_array,497))\n",
    "print(simple_search(sort_array, 497))\n",
    "#Fin\n",
    "fin = time.time()\n",
    "print(fin-inicio)"
   ]
  },
  {
   "cell_type": "code",
   "execution_count": null,
   "id": "83d8c7dd-e9a1-4f29-918f-670585838165",
   "metadata": {},
   "outputs": [],
   "source": []
  },
  {
   "cell_type": "code",
   "execution_count": null,
   "id": "26cd3000-22ae-46a3-880a-09c7d659d33c",
   "metadata": {},
   "outputs": [],
   "source": []
  }
 ],
 "metadata": {
  "kernelspec": {
   "display_name": "Python 3 (ipykernel)",
   "language": "python",
   "name": "python3"
  },
  "language_info": {
   "codemirror_mode": {
    "name": "ipython",
    "version": 3
   },
   "file_extension": ".py",
   "mimetype": "text/x-python",
   "name": "python",
   "nbconvert_exporter": "python",
   "pygments_lexer": "ipython3",
   "version": "3.9.7"
  }
 },
 "nbformat": 4,
 "nbformat_minor": 5
}
