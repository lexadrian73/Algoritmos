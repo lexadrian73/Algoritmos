{
 "cells": [
  {
   "cell_type": "code",
   "execution_count": 66,
   "id": "d590a7f2-c2b5-430e-a757-00540bbdef2b",
   "metadata": {},
   "outputs": [
    {
     "name": "stdout",
     "output_type": "stream",
     "text": [
      "None\n",
      "0.0009613037109375\n"
     ]
    }
   ],
   "source": [
    "import random\n",
    "import sys\n",
    "import numpy as np\n",
    "import time\n",
    "np.set_printoptions(threshold=sys.maxsize)\n",
    "random_array = random.sample(range(1, 500), 100) #Array con 100 elementos\n",
    "sort_array = np.sort(random_array) #Array Ordenado\n",
    "#print(repr(sort_array))\n",
    "\n",
    "def simple_search(lista, item):\n",
    "    for i in range(len(lista)):\n",
    "        if(lista[i] == item):\n",
    "            return lista.index(item)\n",
    "    return None\n",
    "\n",
    "def binary_search(lista, item):\n",
    "    low = 0\n",
    "    high = len(lista) - 1\n",
    "    while low <= high:\n",
    "        mid = (low + high)//2\n",
    "        guess = lista[mid]\n",
    "        if guess == item:\n",
    "            return mid\n",
    "        elif guess > item:\n",
    "            high = mid - 1\n",
    "        else:\n",
    "            low = mid + 1\n",
    "    return None\n",
    "\n",
    "inicio = time.time()\n",
    "#Inicio\n",
    "print(binary_search(sort_array,497))\n",
    "print(simple_search(sort_array, 497))\n",
    "#Fin\n",
    "fin = time.time()\n",
    "print(fin-inicio)"
   ]
  },
  {
   "cell_type": "code",
   "execution_count": null,
   "id": "83d8c7dd-e9a1-4f29-918f-670585838165",
   "metadata": {},
   "outputs": [],
   "source": []
  }
 ],
 "metadata": {
  "kernelspec": {
   "display_name": "Python 3 (ipykernel)",
   "language": "python",
   "name": "python3"
  },
  "language_info": {
   "codemirror_mode": {
    "name": "ipython",
    "version": 3
   },
   "file_extension": ".py",
   "mimetype": "text/x-python",
   "name": "python",
   "nbconvert_exporter": "python",
   "pygments_lexer": "ipython3",
   "version": "3.9.7"
  }
 },
 "nbformat": 4,
 "nbformat_minor": 5
}
