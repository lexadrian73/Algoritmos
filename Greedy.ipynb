{
 "cells": [
  {
   "cell_type": "code",
   "execution_count": 31,
   "id": "03510d3d-6bec-42a9-90a4-7dd98a6af4a4",
   "metadata": {},
   "outputs": [
    {
     "name": "stdout",
     "output_type": "stream",
     "text": [
      "Set {'ART', 'MATH', 'MUSIC'}\n"
     ]
    }
   ],
   "source": [
    "schedule = {\n",
    "    \"ART\": {\"start\": 9, \"stop\": 10},\n",
    "    \"ENG\": {\"start\": 9.30, \"stop\": 10.30},\n",
    "    \"MATH\": {\"start\": 10, \"stop\": 11},\n",
    "    \"CS\": {\"start\": 10.30, \"stop\": 11.30},\n",
    "    \"MUSIC\": {\"start\": 11, \"stop\": 12}\n",
    "}\n",
    "\n",
    "def interval_scheduling(schedule):\n",
    "    name = list(schedule.keys())\n",
    "    stimes = [float(schedule[x][\"start\"]) for x in schedule]\n",
    "    ftimes = [float(schedule[x][\"stop\"]) for x in schedule]\n",
    "    index = list(range(len(stimes)))\n",
    "    \n",
    "    maximal_set = set()\n",
    "    prev_finish_time = 0\n",
    "    for i in index:\n",
    "        if stimes[i] >= prev_finish_time:\n",
    "            maximal_set.add(name[i])\n",
    "            prev_finish_time = ftimes[i]\n",
    " \n",
    "    return maximal_set\n",
    "  \n",
    "ans = interval_scheduling(schedule)\n",
    "print('Set', ans)\n"
   ]
  },
  {
   "cell_type": "code",
   "execution_count": 36,
   "id": "7ac7fa5f-f04e-4eed-93bf-0ede1522976e",
   "metadata": {},
   "outputs": [
    {
     "name": "stdout",
     "output_type": "stream",
     "text": [
      "{'ktwo', 'kthree', 'kfive', 'kone'}\n"
     ]
    }
   ],
   "source": [
    "states_needed = set([\"mt\",\"wa\",\"or\",\"id\",\"nv\",\"ut\",\"ca\",\"az\"])\n",
    "\n",
    "stations = {}\n",
    "stations[\"kone\"] = set([\"id\",\"nv\",\"ut\"])\n",
    "stations[\"ktwo\"] = set([\"wa\",\"id\",\"mt\"])\n",
    "stations[\"kthree\"] = set([\"or\",\"nv\",\"ca\"])\n",
    "stations[\"kfour\"] = set([\"nv\",\"ut\"])\n",
    "stations[\"kfive\"] = set([\"ca\",\"az\"])\n",
    "\n",
    "final_stations = set()\n",
    "\n",
    "while states_needed:\n",
    "    best_station = None\n",
    "    states_covered = set()\n",
    "    for station, states in stations.items():\n",
    "        covered = states_needed & states\n",
    "        if len(covered) > len(states_covered):\n",
    "            best_station = station\n",
    "            states_covered = covered\n",
    "\n",
    "    states_needed -= states_covered\n",
    "    final_stations.add(best_station)\n",
    "    \n",
    "print(final_stations)"
   ]
  },
  {
   "cell_type": "code",
   "execution_count": 37,
   "id": "319af428-2045-4d87-9286-f6215b5946a3",
   "metadata": {},
   "outputs": [
    {
     "name": "stdout",
     "output_type": "stream",
     "text": [
      "{'p4', 'p3', 'p1'}\n"
     ]
    }
   ],
   "source": [
    "skills_needed = set([\"a\",\"b\",\"c\",\"d\",\"e\",\"f\",\"g\"])\n",
    "\n",
    "players = {}\n",
    "players[\"p1\"] = set([\"a\",\"b\",\"c\",\"e\"])\n",
    "players[\"p2\"] = set([\"b\",\"c\",\"d\"])\n",
    "players[\"p3\"] = set([\"d\",\"e\",\"f\"])\n",
    "players[\"p4\"] = set([\"f\",\"g\"])\n",
    "players[\"p5\"] = set([\"e\",\"f\",\"g\"])\n",
    "\n",
    "final_players = set()\n",
    "\n",
    "while skills_needed:\n",
    "    best_player = None\n",
    "    skills_covered = set()\n",
    "    for player, skills in players.items():\n",
    "        covered = skills_needed & skills\n",
    "        if len(covered) > len(skills_covered):\n",
    "            best_player = player\n",
    "            skills_covered = covered\n",
    "\n",
    "    skills_needed -= skills_covered\n",
    "    final_players.add(best_player)\n",
    "    \n",
    "print(final_players)"
   ]
  },
  {
   "cell_type": "code",
   "execution_count": null,
   "id": "a943a906-065c-42de-86c4-49c30ad4602a",
   "metadata": {},
   "outputs": [],
   "source": []
  }
 ],
 "metadata": {
  "kernelspec": {
   "display_name": "Python 3 (ipykernel)",
   "language": "python",
   "name": "python3"
  },
  "language_info": {
   "codemirror_mode": {
    "name": "ipython",
    "version": 3
   },
   "file_extension": ".py",
   "mimetype": "text/x-python",
   "name": "python",
   "nbconvert_exporter": "python",
   "pygments_lexer": "ipython3",
   "version": "3.9.12"
  }
 },
 "nbformat": 4,
 "nbformat_minor": 5
}
