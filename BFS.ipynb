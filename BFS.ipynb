{
 "cells": [
  {
   "cell_type": "code",
   "execution_count": 5,
   "id": "61519767-51b1-46c8-9bbe-818eb72870ff",
   "metadata": {},
   "outputs": [
    {
     "name": "stdout",
     "output_type": "stream",
     "text": [
      "alice []\n",
      "bob ['alice']\n",
      "claire ['alice', 'bob']\n",
      "peggy ['alice', 'bob', 'claire']\n",
      "anuj ['alice', 'bob', 'claire', 'peggy']\n",
      "peggy ['alice', 'bob', 'claire', 'peggy', 'anuj']\n",
      "thom ['alice', 'bob', 'claire', 'peggy', 'anuj']\n",
      "thom is a mango seller!\n"
     ]
    }
   ],
   "source": [
    "from collections import deque\n",
    "\n",
    "def search(name):\n",
    "    search_queue = deque() \n",
    "    search_queue += graph[name] \n",
    "    searched = [] \n",
    "    while search_queue: \n",
    "        person = search_queue.popleft()\n",
    "        print(person, searched)\n",
    "        if person not in searched:\n",
    "            if person_is_seller(person):\n",
    "                print(\"%s is a mango seller!\"% person)\n",
    "                return True\n",
    "            else:\n",
    "                search_queue += graph[person]\n",
    "                searched.append(person) \n",
    "    return False\n",
    "\n",
    "def person_is_seller(man): \n",
    "    return man[-1] == \"m\"\n",
    "\n",
    "if __name__ == \"__main__\":\n",
    "    graph = {}\n",
    "    graph [\"you\"] = [\"alice\", \"bob\", \"claire\"]\n",
    "    graph [\"bob\"] = [\"anuj\", \"peggy\"]\n",
    "    graph [\"alice\"] = [\"peggy\"]\n",
    "    graph [\"claire\"] = [\"thom\", \"jonny\"]\n",
    "    graph [\"anuj\"] = []\n",
    "    graph [\"peggy\"] = []\n",
    "    graph [\"thon\"] = []\n",
    "    graph [\"jonny\"] = []\n",
    "\n",
    "    search(\"you\")"
   ]
  },
  {
   "cell_type": "code",
   "execution_count": null,
   "id": "d9500c89-5d1d-42f4-8d42-76bd1812af4f",
   "metadata": {},
   "outputs": [],
   "source": []
  }
 ],
 "metadata": {
  "kernelspec": {
   "display_name": "Python 3 (ipykernel)",
   "language": "python",
   "name": "python3"
  },
  "language_info": {
   "codemirror_mode": {
    "name": "ipython",
    "version": 3
   },
   "file_extension": ".py",
   "mimetype": "text/x-python",
   "name": "python",
   "nbconvert_exporter": "python",
   "pygments_lexer": "ipython3",
   "version": "3.9.7"
  }
 },
 "nbformat": 4,
 "nbformat_minor": 5
}
